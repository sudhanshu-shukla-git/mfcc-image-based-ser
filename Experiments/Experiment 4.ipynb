{
 "cells": [
  {
   "cell_type": "markdown",
   "id": "4fa1dfe2",
   "metadata": {},
   "source": [
    "# Experiment 4"
   ]
  },
  {
   "cell_type": "markdown",
   "id": "62c56f49",
   "metadata": {
    "ExecuteTime": {
     "end_time": "2023-03-06T07:21:27.238198Z",
     "start_time": "2023-03-06T07:21:27.235446Z"
    }
   },
   "source": [
    "## Importing Libararies"
   ]
  },
  {
   "cell_type": "code",
   "execution_count": 1,
   "id": "fcdcecfb-907a-4bb1-aac9-767eeabb4d23",
   "metadata": {
    "scrolled": true,
    "tags": []
   },
   "outputs": [],
   "source": [
    "import os\n",
    "import os\n",
    "\n",
    "os.environ['PYTHONHASHSEED']=str(2)\n",
    "os.environ['TF_CPP_MIN_LOG_LEVEL'] = '2' \n",
    "def reset_random_seeds():\n",
    "   os.environ['PYTHONHASHSEED']=str(2)\n",
    "   tf.random.set_seed(2)\n",
    "   np.random.seed(2)\n",
    "   random.seed(2)"
   ]
  },
  {
   "cell_type": "code",
   "execution_count": 2,
   "id": "f08ec121-4026-4e83-8511-b0c311188816",
   "metadata": {
    "tags": []
   },
   "outputs": [
    {
     "name": "stdout",
     "output_type": "stream",
     "text": [
      "Metal device set to: Apple M1\n",
      "\n",
      "systemMemory: 8.00 GB\n",
      "maxCacheSize: 2.67 GB\n",
      "\n"
     ]
    }
   ],
   "source": [
    "\n",
    "import pandas as pd\n",
    "# import tensorflow as tf\n",
    "import tensorflow as tf\n",
    "\n",
    "#Assume that the number of cores per socket in the machine is denoted as NUM_PARALLEL_EXEC_UNITS\n",
    "#  when NUM_PARALLEL_EXEC_UNITS=0 the system chooses appropriate settings \n",
    "NUM_PARALLEL_EXEC_UNITS = 2\n",
    "config = tf.compat.v1.ConfigProto(intra_op_parallelism_threads=NUM_PARALLEL_EXEC_UNITS, \n",
    "                        inter_op_parallelism_threads=2, \n",
    "                        allow_soft_placement=True,\n",
    "                        device_count = {'CPU': NUM_PARALLEL_EXEC_UNITS,'GPU' :1})\n",
    "\n",
    "session = tf.compat.v1.Session(config=config)\n"
   ]
  },
  {
   "cell_type": "code",
   "execution_count": 3,
   "id": "bcbed736",
   "metadata": {
    "ExecuteTime": {
     "end_time": "2023-03-06T15:00:26.385334Z",
     "start_time": "2023-03-06T15:00:23.996458Z"
    },
    "tags": []
   },
   "outputs": [],
   "source": [
    "\n",
    "import pandas as pd\n",
    "import tensorflow as tf\n",
    "from tensorflow.keras.optimizers  import SGD, RMSprop, Adam as adam\n",
    "from tensorflow.keras.optimizers  import  RMSprop \n",
    "from sklearn import metrics\n",
    "from sklearn.utils import shuffle\n",
    "from sklearn.model_selection import train_test_split\n",
    "import matplotlib.image as mpimg\n",
    "import matplotlib.pyplot as plt\n",
    "import pandas as pd\n",
    "import numpy as np\n",
    "import os\n",
    "import cv2\n",
    "import random as rn\n",
    "from numpy import *\n",
    "from tqdm import tqdm\n",
    "import inspect\n",
    "from tensorflow.keras import backend as K\n",
    "from tensorflow.keras.models import Sequential, Model\n",
    "from tensorflow.keras.layers import Dense, GRU, Flatten, TimeDistributed, Flatten, BatchNormalization, Activation, Dropout\n",
    "from tensorflow.keras.callbacks import ModelCheckpoint, ReduceLROnPlateau\n",
    "from tensorflow.keras.layers import LeakyReLU\n",
    "import datetime\n",
    "import os\n",
    "import keras\n",
    "import pickle\n",
    "import lzma\n",
    "from tensorflow.keras.applications import DenseNet169\n",
    "from tensorflow.keras.preprocessing import image\n",
    "from tensorflow.keras.models import Model\n",
    "from tensorflow.keras.layers import Dense, GlobalAveragePooling2D,Conv2D,MaxPooling2D,GRU, Flatten, TimeDistributed, Flatten, BatchNormalization, Activation, Dropout\n",
    "from tensorflow.keras import backend\n",
    "import os\n",
    "import cv2\n",
    "import random as rn\n",
    "from numpy import *\n",
    "import tensorflow as tf \n",
    "from tqdm import tqdm\n",
    "from sklearn.utils import shuffle\n",
    "backend.set_image_data_format('channels_last')"
   ]
  },
  {
   "cell_type": "markdown",
   "id": "92700e0b",
   "metadata": {},
   "source": [
    "## Reading Data"
   ]
  },
  {
   "cell_type": "code",
   "execution_count": 4,
   "id": "0118a4af-9286-4c01-96b8-8d9c7941c346",
   "metadata": {
    "tags": []
   },
   "outputs": [],
   "source": [
    "tf.random.set_seed(\n",
    "    100\n",
    ")"
   ]
  },
  {
   "cell_type": "code",
   "execution_count": 15,
   "id": "e5e27152",
   "metadata": {
    "ExecuteTime": {
     "end_time": "2023-03-06T15:00:26.406081Z",
     "start_time": "2023-03-06T15:00:26.388204Z"
    },
    "tags": []
   },
   "outputs": [],
   "source": [
    "source_data = pd.read_csv(\"../train_data_all.csv\")"
   ]
  },
  {
   "cell_type": "code",
   "execution_count": 16,
   "id": "d781559c",
   "metadata": {
    "ExecuteTime": {
     "end_time": "2023-03-06T15:00:26.414811Z",
     "start_time": "2023-03-06T15:00:26.407475Z"
    },
    "tags": []
   },
   "outputs": [],
   "source": [
    "source_data[\"path\"] = \"../\"+source_data[\"path\"]"
   ]
  },
  {
   "cell_type": "code",
   "execution_count": null,
   "id": "91c352f2",
   "metadata": {
    "ExecuteTime": {
     "end_time": "2023-03-06T15:00:26.420339Z",
     "start_time": "2023-03-06T15:00:26.416000Z"
    },
    "tags": []
   },
   "outputs": [],
   "source": [
    "sources = source_data[\"source\"].unique()\n",
    "sources"
   ]
  },
  {
   "cell_type": "code",
   "execution_count": 5,
   "id": "26b7e000",
   "metadata": {
    "ExecuteTime": {
     "end_time": "2023-03-06T15:00:26.423496Z",
     "start_time": "2023-03-06T15:00:26.421473Z"
    },
    "tags": []
   },
   "outputs": [],
   "source": [
    "from sklearn.model_selection import train_test_split"
   ]
  },
  {
   "cell_type": "markdown",
   "id": "4848752f-b0bd-4bb1-90c0-9fce1e306304",
   "metadata": {
    "tags": []
   },
   "source": [
    "## Metrics"
   ]
  },
  {
   "cell_type": "code",
   "execution_count": null,
   "id": "66c13860",
   "metadata": {},
   "outputs": [],
   "source": [
    "from sklearn.metrics import auc,roc_curve\n",
    "def _check_pos_label_consistency(pos_label, y_true):\n",
    "    \"\"\"Check if `pos_label` need to be specified or not.\n",
    "    In binary classification, we fix `pos_label=1` if the labels are in the set\n",
    "    {-1, 1} or {0, 1}. Otherwise, we raise an error asking to specify the\n",
    "    `pos_label` parameters.\n",
    "    Parameters\n",
    "    ----------\n",
    "    pos_label : int, str or None\n",
    "        The positive label.\n",
    "    y_true : ndarray of shape (n_samples,)\n",
    "        The target vector.\n",
    "    Returns\n",
    "    -------\n",
    "    pos_label : int\n",
    "        If `pos_label` can be inferred, it will be returned.\n",
    "    Raises\n",
    "    ------\n",
    "    ValueError\n",
    "        In the case that `y_true` does not have label in {-1, 1} or {0, 1},\n",
    "        it will raise a `ValueError`.\n",
    "    \"\"\"\n",
    "    # ensure binary classification if pos_label is not specified\n",
    "    # classes.dtype.kind in ('O', 'U', 'S') is required to avoid\n",
    "    # triggering a FutureWarning by calling np.array_equal(a, b)\n",
    "    # when elements in the two arrays are not comparable.\n",
    "    classes = np.unique(y_true)\n",
    "    if pos_label is None and (\n",
    "        classes.dtype.kind in \"OUS\"\n",
    "        or not (\n",
    "            np.array_equal(classes, [0, 1])\n",
    "            or np.array_equal(classes, [-1, 1])\n",
    "            or np.array_equal(classes, [0])\n",
    "            or np.array_equal(classes, [-1])\n",
    "            or np.array_equal(classes, [1])\n",
    "        )\n",
    "    ):\n",
    "        classes_repr = \", \".join(repr(c) for c in classes)\n",
    "        raise ValueError(\n",
    "            f\"y_true takes value in {{{classes_repr}}} and pos_label is not \"\n",
    "            \"specified: either make y_true take value in {0, 1} or \"\n",
    "            \"{-1, 1} or pass pos_label explicitly.\"\n",
    "        )\n",
    "    elif pos_label is None:\n",
    "        pos_label = 1\n",
    "\n",
    "    return pos_label\n",
    "\n",
    "class RocCurveDisplay:\n",
    "   \n",
    "\n",
    "    def __init__(self, *, fpr, tpr, roc_auc=None, estimator_name=None, pos_label=None):\n",
    "        self.estimator_name = estimator_name\n",
    "        self.fpr = fpr\n",
    "        self.tpr = tpr\n",
    "        self.roc_auc = roc_auc\n",
    "        self.pos_label = pos_label\n",
    "\n",
    "    def plot(self, ax=None, *, name=None, **kwargs):\n",
    "        \"\"\"Plot visualization.\n",
    "\n",
    "        Extra keyword arguments will be passed to matplotlib's ``plot``.\n",
    "\n",
    "        Parameters\n",
    "        ----------\n",
    "        ax : matplotlib axes, default=None\n",
    "            Axes object to plot on. If `None`, a new figure and axes is\n",
    "            created.\n",
    "\n",
    "        name : str, default=None\n",
    "            Name of ROC Curve for labeling. If `None`, use `estimator_name` if\n",
    "            not `None`, otherwise no labeling is shown.\n",
    "\n",
    "        **kwargs : dict\n",
    "            Keyword arguments to be passed to matplotlib's `plot`.\n",
    "\n",
    "        Returns\n",
    "        -------\n",
    "        display : :class:`~sklearn.metrics.plot.RocCurveDisplay`\n",
    "            Object that stores computed values.\n",
    "        \"\"\"\n",
    "        name = self.estimator_name if name is None else name\n",
    "\n",
    "        line_kwargs = {}\n",
    "        if self.roc_auc is not None and name is not None:\n",
    "            line_kwargs[\"label\"] = f\"{name} (AUC = {self.roc_auc:0.2f})\"\n",
    "        elif self.roc_auc is not None:\n",
    "            line_kwargs[\"label\"] = f\"AUC = {self.roc_auc:0.2f}\"\n",
    "        elif name is not None:\n",
    "            line_kwargs[\"label\"] = name\n",
    "\n",
    "        line_kwargs.update(**kwargs)\n",
    "\n",
    "        import matplotlib.pyplot as plt\n",
    "\n",
    "        if ax is None:\n",
    "            fig, ax = plt.subplots()\n",
    "\n",
    "        (self.line_,) = ax.plot(self.fpr, self.tpr, **line_kwargs)\n",
    "        info_pos_label = (\n",
    "            f\" (Positive label: {self.pos_label})\" if self.pos_label is not None else \"\"\n",
    "        )\n",
    "\n",
    "        xlabel = \"False Positive Rate\" + info_pos_label\n",
    "        ylabel = \"True Positive Rate\" + info_pos_label\n",
    "        ax.set(xlabel=xlabel, ylabel=ylabel)\n",
    "\n",
    "        if \"label\" in line_kwargs:\n",
    "            ax.legend(loc=\"lower right\")\n",
    "\n",
    "        self.ax_ = ax\n",
    "        self.figure_ = ax.figure\n",
    "        return self\n",
    "\n",
    "\n",
    "    @classmethod\n",
    "    def from_predictions(\n",
    "        cls,\n",
    "        y_true,\n",
    "        y_pred,\n",
    "        *,\n",
    "        sample_weight=None,\n",
    "        drop_intermediate=True,\n",
    "        pos_label=None,\n",
    "        name=None,\n",
    "        ax=None,\n",
    "        **kwargs,\n",
    "    ):\n",
    "        \"\"\"Plot ROC curve given the true and predicted values.\n",
    "\n",
    "        Read more in the :ref:`User Guide <visualizations>`.\n",
    "\n",
    "        .. versionadded:: 1.0\n",
    "\n",
    "        Parameters\n",
    "        ----------\n",
    "        y_true : array-like of shape (n_samples,)\n",
    "            True labels.\n",
    "\n",
    "        y_pred : array-like of shape (n_samples,)\n",
    "            Target scores, can either be probability estimates of the positive\n",
    "            class, confidence values, or non-thresholded measure of decisions\n",
    "            (as returned by “decision_function” on some classifiers).\n",
    "\n",
    "        sample_weight : array-like of shape (n_samples,), default=None\n",
    "            Sample weights.\n",
    "\n",
    "        drop_intermediate : bool, default=True\n",
    "            Whether to drop some suboptimal thresholds which would not appear\n",
    "            on a plotted ROC curve. This is useful in order to create lighter\n",
    "            ROC curves.\n",
    "\n",
    "        pos_label : str or int, default=None\n",
    "            The label of the positive class. When `pos_label=None`, if `y_true`\n",
    "            is in {-1, 1} or {0, 1}, `pos_label` is set to 1, otherwise an\n",
    "            error will be raised.\n",
    "\n",
    "        name : str, default=None\n",
    "            Name of ROC curve for labeling. If `None`, name will be set to\n",
    "            `\"Classifier\"`.\n",
    "\n",
    "        ax : matplotlib axes, default=None\n",
    "            Axes object to plot on. If `None`, a new figure and axes is\n",
    "            created.\n",
    "\n",
    "        **kwargs : dict\n",
    "            Additional keywords arguments passed to matplotlib `plot` function.\n",
    "\n",
    "        Returns\n",
    "        -------\n",
    "        display : :class:`~sklearn.metrics.RocCurveDisplay`\n",
    "            Object that stores computed values.\n",
    "\n",
    "        See Also\n",
    "        --------\n",
    "        roc_curve : Compute Receiver operating characteristic (ROC) curve.\n",
    "        RocCurveDisplay.from_estimator : ROC Curve visualization given an\n",
    "            estimator and some data.\n",
    "        roc_auc_score : Compute the area under the ROC curve.\n",
    "\n",
    "        Examples\n",
    "        --------\n",
    "        >>> import matplotlib.pyplot as plt\n",
    "        >>> from sklearn.datasets import make_classification\n",
    "        >>> from sklearn.metrics import RocCurveDisplay\n",
    "        >>> from sklearn.model_selection import train_test_split\n",
    "        >>> from sklearn.svm import SVC\n",
    "        >>> X, y = make_classification(random_state=0)\n",
    "        >>> X_train, X_test, y_train, y_test = train_test_split(\n",
    "        ...     X, y, random_state=0)\n",
    "        >>> clf = SVC(random_state=0).fit(X_train, y_train)\n",
    "        >>> y_pred = clf.decision_function(X_test)\n",
    "        >>> RocCurveDisplay.from_predictions(\n",
    "        ...    y_test, y_pred)\n",
    "        <...>\n",
    "        >>> plt.show()\n",
    "        \"\"\"\n",
    "     \n",
    "        fpr, tpr, _ = roc_curve(\n",
    "            y_true,\n",
    "            y_pred,\n",
    "            pos_label=pos_label,\n",
    "            sample_weight=sample_weight,\n",
    "            drop_intermediate=drop_intermediate,\n",
    "        )\n",
    "        roc_auc = auc(fpr, tpr)\n",
    "\n",
    "        name = \"Classifier\" if name is None else name\n",
    "        pos_label = _check_pos_label_consistency(pos_label, y_true)\n",
    "\n",
    "        viz = RocCurveDisplay(\n",
    "            fpr=fpr, tpr=tpr, roc_auc=roc_auc, estimator_name=name, pos_label=pos_label\n",
    "        )\n",
    "\n",
    "        return viz.plot(ax=ax, name=name, **kwargs)\n",
    "\n",
    "import matplotlib.pyplot as plt\n",
    "\n",
    "def plot_confusion_matrix(classes,y_test, y_pred,\n",
    "                          normalize=True,\n",
    "                          title='Confusion matrix',\n",
    "                          cmap=plt.cm.Blues):\n",
    "\n",
    "    cm = metrics.confusion_matrix(y_test, y_pred)\n",
    "    plt.figure(figsize=(8,6))\n",
    "    \n",
    "    plt.imshow(cm, interpolation='nearest', cmap=cmap)\n",
    "    plt.title(title)\n",
    "    tick_marks = np.arange(len(classes))\n",
    "    plt.xticks(tick_marks, classes, rotation=45)\n",
    "    plt.yticks(tick_marks, classes)\n",
    "\n",
    "    if normalize:\n",
    "        cm = np.round(cm.astype('float') / cm.sum(axis=1)[:, np.newaxis],2)\n",
    "        print(\"Normalized confusion matrix\")\n",
    "    else:\n",
    "        print('Confusion matrix, without normalization')\n",
    "\n",
    "    thresh = cm.max() / 2.\n",
    "    for i, j in itertools.product(range(cm.shape[0]), range(cm.shape[1])):\n",
    "        plt.text(j, i, cm[i, j],\n",
    "                 horizontalalignment=\"center\",\n",
    "                 color=\"white\" if cm[i, j] > thresh else \"black\")\n",
    "\n",
    "    plt.tight_layout()\n",
    "    plt.ylabel('True label')\n",
    "    plt.xlabel('Predicted label')\n",
    "\n",
    "from sklearn.preprocessing import LabelBinarizer\n",
    "from sklearn.metrics import roc_curve, auc ,roc_auc_score\n",
    "import matplotlib.pyplot as plt\n",
    "\n",
    "from itertools import cycle\n",
    "\n",
    "from sklearn import metrics\n",
    "import itertools\n",
    "\n",
    "def plot_metrics(dataset,y_pred):\n",
    "\n",
    "    print(dataset)\n",
    "    X_train,y_train,X_test,y_test = get_train_test_data(source_data, dataset)\n",
    "    \n",
    "    label_binarizer = LabelBinarizer().fit(y_train)\n",
    "    y_onehot_test = label_binarizer.transform(y_test)\n",
    "    y_onehot_test.shape  # (n_samples, n_classes)\n",
    "    y_score = label_binarizer.transform(y_pred)\n",
    "\n",
    "\n",
    "    # store the fpr, tpr, and roc_auc for all averaging strategies\n",
    "    fpr, tpr, roc_auc = dict(), dict(), dict()\n",
    "    # Compute micro-average ROC curve and ROC area\n",
    "    fpr[\"micro\"], tpr[\"micro\"], _ = roc_curve(y_onehot_test.ravel(), y_score.ravel())\n",
    "    roc_auc[\"micro\"] = auc(fpr[\"micro\"], tpr[\"micro\"])\n",
    "\n",
    "    macro_roc_auc_ovr = roc_auc_score(\n",
    "        y_test,\n",
    "        y_score,\n",
    "        multi_class=\"ovr\",\n",
    "        average=\"macro\",\n",
    "    )\n",
    "\n",
    "    n_classes =4\n",
    "    for i in range(n_classes):\n",
    "        fpr[i], tpr[i], _ = roc_curve(y_onehot_test[:, i], y_score[:, i])\n",
    "        roc_auc[i] = auc(fpr[i], tpr[i])\n",
    "\n",
    "    fpr_grid = np.linspace(0.0, 1.0, 1000)\n",
    "\n",
    "    # Interpolate all ROC curves at these points\n",
    "    mean_tpr = np.zeros_like(fpr_grid)\n",
    "\n",
    "    for i in range(n_classes):\n",
    "        mean_tpr += np.interp(fpr_grid, fpr[i], tpr[i])  # linear interpolation\n",
    "\n",
    "    # Average it and compute AUC\n",
    "    mean_tpr /= n_classes\n",
    "\n",
    "    fpr[\"macro\"] = fpr_grid\n",
    "    tpr[\"macro\"] = mean_tpr\n",
    "    roc_auc[\"macro\"] = auc(fpr[\"macro\"], tpr[\"macro\"])\n",
    "\n",
    "    target_names=['angry','happy','neutral', 'sad' ]\n",
    "\n",
    "    fig, ax = plt.subplots(figsize=(8, 8))\n",
    "\n",
    "    plt.plot(\n",
    "        fpr[\"micro\"],\n",
    "        tpr[\"micro\"],\n",
    "        label=f\"micro-average ROC curve (AUC = {roc_auc['micro']:.2f})\",\n",
    "        color=\"deeppink\",\n",
    "        linestyle=\":\",\n",
    "        linewidth=4,\n",
    "    )\n",
    "\n",
    "    plt.plot(\n",
    "        fpr[\"macro\"],\n",
    "        tpr[\"macro\"],\n",
    "        label=f\"macro-average ROC curve (AUC = {roc_auc['macro']:.2f})\",\n",
    "        color=\"navy\",\n",
    "        linestyle=\":\",\n",
    "        linewidth=4,\n",
    "    )\n",
    "\n",
    "    colors = cycle([\"aqua\", \"darkorange\", \"cornflowerblue\",\"green\"])\n",
    "    for class_id, color in zip(range(n_classes), colors):\n",
    "        RocCurveDisplay.from_predictions(\n",
    "            y_onehot_test[:, class_id],\n",
    "            y_score[:, class_id],\n",
    "            name=f\"ROC curve for {target_names[class_id]}\",\n",
    "            color=color,\n",
    "            ax=ax,\n",
    "        )\n",
    "\n",
    "    plt.plot([0, 1], [0, 1], \"k--\", label=\"ROC curve for chance level (AUC = 0.5)\")\n",
    "    plt.axis(\"square\")\n",
    "    plt.xlabel(\"False Positive Rate\")\n",
    "    plt.ylabel(\"True Positive Rate\")\n",
    "    plt.title(\"Extension of Receiver Operating Characteristic\\nto One-vs-Rest multiclass\")\n",
    "    plt.legend()\n",
    "    plt.savefig(f\"Exp4_roc_auc_{dataset}.png\")"
   ]
  },
  {
   "cell_type": "markdown",
   "id": "89d41375",
   "metadata": {},
   "source": [
    "## Test Train Split"
   ]
  },
  {
   "cell_type": "code",
   "execution_count": null,
   "id": "b053a7cd",
   "metadata": {},
   "outputs": [],
   "source": []
  },
  {
   "cell_type": "code",
   "execution_count": null,
   "id": "fe15ea2b-630c-4ab6-8e1d-5f9166b285a0",
   "metadata": {
    "tags": []
   },
   "outputs": [],
   "source": [
    "\n",
    "import tensorflow as tf\n",
    "print(tf.config.list_physical_devices('GPU'))\n",
    "print(\"Num GPUs Available: \", len(tf.config.list_physical_devices('GPU')))\n",
    "tf.debugging.set_log_device_placement(True)\n"
   ]
  },
  {
   "cell_type": "code",
   "execution_count": 8,
   "id": "0738b5af-5d6d-45a7-ae53-cc65b580d80e",
   "metadata": {
    "tags": []
   },
   "outputs": [],
   "source": [
    "from sklearn.metrics import auc,roc_curve\n",
    "from sklearn.preprocessing import LabelBinarizer\n",
    "from sklearn.metrics import roc_curve, auc ,roc_auc_score\n",
    "import matplotlib.pyplot as plt\n",
    "\n",
    "from itertools import cycle\n",
    "\n",
    "from sklearn import metrics\n",
    "import itertools\n",
    "import numpy as np\n",
    "\n",
    "\n",
    "\n",
    "def get_class_accuracy(model,dataset, X_train,y_train,X_test,y_test, model_name):\n",
    "\n",
    "    print(dataset)\n",
    "    X_train,y_train,X_test,y_test = get_train_test_data(source_data, dataset)\n",
    "    \n",
    "    y_pred_prob = model.predict(X_test)\n",
    "    y_pred = np.argmax(y_pred_prob,axis=1)\n",
    "\n",
    "    label_binarizer = LabelBinarizer().fit(y_train)\n",
    "    y_onehot_test = label_binarizer.transform(y_test)\n",
    "    y_onehot_test.shape  # (n_samples, n_classes)\n",
    "    y_score = label_binarizer.transform(y_pred)\n",
    "\n",
    "\n",
    "    #importing accuracy_score, precision_score, recall_score, f1_score\n",
    "    from sklearn.metrics import accuracy_score, precision_score, recall_score, f1_score\n",
    "    print('\\nAccuracy: {:.2f}\\n'.format(accuracy_score(y_test, y_pred)))\n",
    "    score = accuracy_score(y_test, y_pred)\n",
    "\n",
    "    print('Micro Precision: {:.2f}'.format(precision_score(y_test, y_pred, average='micro')))\n",
    "    print('Micro Recall: {:.2f}'.format(recall_score(y_test, y_pred, average='micro')))\n",
    "    print('Micro F1-score: {:.2f}\\n'.format(f1_score(y_test, y_pred, average='micro')))\n",
    "\n",
    "    print('Macro Precision: {:.2f}'.format(precision_score(y_test, y_pred, average='macro')))\n",
    "    print('Macro Recall: {:.2f}'.format(recall_score(y_test, y_pred, average='macro')))\n",
    "    print('Macro F1-score: {:.2f}\\n'.format(f1_score(y_test, y_pred, average='macro')))\n",
    "\n",
    "    print('Weighted Precision: {:.2f}'.format(precision_score(y_test, y_pred, average='weighted')))\n",
    "    print('Weighted Recall: {:.2f}'.format(recall_score(y_test, y_pred, average='weighted')))\n",
    "    print('Weighted F1-score: {:.2f}'.format(f1_score(y_test, y_pred, average='weighted')))\n",
    "\n",
    "    df_index = df_metrics[df_metrics[\"model\"]==model_name].index\n",
    "    df_metrics.at[df_index[0],dataset]=score\n",
    "    df_metrics.to_csv(\"df_metrics_4.csv\",index=False)\n",
    "    plot_metrics(dataset,y_pred)\n",
    "\n",
    "\n"
   ]
  },
  {
   "cell_type": "code",
   "execution_count": 21,
   "id": "6ebfb1ba",
   "metadata": {
    "ExecuteTime": {
     "end_time": "2023-03-06T15:00:26.431388Z",
     "start_time": "2023-03-06T15:00:26.424523Z"
    },
    "tags": []
   },
   "outputs": [],
   "source": [
    "import os\n",
    "import pickle\n",
    "import numpy as np\n",
    "import pandas as pd\n",
    "from sklearn.model_selection import train_test_split\n",
    "\n",
    "def get_train_test_data(source_data, eval_dataset, test_size=0.30, shape=(75,75),suffix=\"_exp_2\"):\n",
    "    # Define file paths for saved data\n",
    "    train_data_file = f'image_train_data{suffix}.pkl'\n",
    "    test_data_file = f'image_test_data{suffix}.pkl'\n",
    "    \n",
    "    \n",
    "    # Check if the files exist, if so, load the data\n",
    "    if os.path.exists(train_data_file) and os.path.exists(test_data_file):\n",
    "        with open(train_data_file, 'rb') as f_train, open(test_data_file, 'rb') as f_test:\n",
    "            image_train_data = pickle.load(f_train)\n",
    "            image_test_data = pickle.load(f_test)\n",
    "    else:\n",
    "        train_data = source_data[(source_data.source!=eval_dataset)]\n",
    "        test_data = source_data[(source_data.source==eval_dataset) & (source_data.augmented==0)]\n",
    "        awgn_data = source_data[(source_data.source==eval_dataset) & (source_data.augmented!=0)]\n",
    "        \n",
    "\n",
    "        combined_train_data, combined_test_data = train_test_split(train_data,stratify=train_data['source']+\"_\"+train_data['emotion'], \n",
    "                                                        test_size=0.50)\n",
    "\n",
    "\n",
    "        dataset_train_clean_data, dataset_test_clean_data = train_test_split(test_data,stratify=test_data['emotion_class'], \n",
    "                                                        test_size=0.20)\n",
    "\n",
    "\n",
    "        train_data = pd.concat([combined_train_data,awgn_data,dataset_train_clean_data])\n",
    "        test_data = dataset_test_clean_data\n",
    "                    \n",
    "        # Save the created data\n",
    "        with open(train_data_file, 'wb') as f_train, open(test_data_file, 'wb') as f_test:\n",
    "            pickle.dump(image_train_data, f_train)\n",
    "            pickle.dump(image_test_data, f_test)\n",
    "\n",
    "    # Extract features and labels from image data\n",
    "    X_train = np.array([i[0] for i in image_train_data])\n",
    "    y_train = np.array([i[1] for i in image_train_data])\n",
    "    X_test = np.array([i[0] for i in image_test_data])\n",
    "    y_test = np.array([i[1] for i in image_test_data])\n",
    "\n",
    "    return X_train, y_train, X_test, y_test\n"
   ]
  },
  {
   "cell_type": "code",
   "execution_count": 22,
   "id": "0fce923b",
   "metadata": {
    "ExecuteTime": {
     "end_time": "2023-03-06T15:00:26.437340Z",
     "start_time": "2023-03-06T15:00:26.432763Z"
    },
    "tags": []
   },
   "outputs": [],
   "source": [
    "# Mean Normalization\n",
    "def mean_normalization(image):\n",
    "    return cv2.normalize(image, None, 0, 1.0, cv2.NORM_MINMAX, dtype=cv2.CV_32F)"
   ]
  },
  {
   "cell_type": "code",
   "execution_count": 23,
   "id": "ee58fc3a",
   "metadata": {
    "ExecuteTime": {
     "end_time": "2023-03-06T15:00:26.642885Z",
     "start_time": "2023-03-06T15:00:26.638968Z"
    },
    "tags": []
   },
   "outputs": [],
   "source": [
    "def create_train_data(train_df,shape):\n",
    "    # Creating an empty list where we should store the training data\n",
    "    # after a little preprocessing of the data\n",
    "    training_data = []\n",
    "  \n",
    "    # tqdm is only used for interactive loading\n",
    "    # loading the training data\n",
    "    for row in train_df.itertuples():\n",
    "  \n",
    "        # labeling the images\n",
    "        label = row.emotion_class\n",
    "  \n",
    "        path = row.path\n",
    "  \n",
    "        # loading the image from the path and then converting them into\n",
    "        # grayscale for easier covnet prob\n",
    "        img = cv2.imread(path)\n",
    "        # print(img.shape)  \n",
    "        # resizing the image for processing them in the covnet\n",
    "        img = cv2.resize(img, shape)\n",
    "        # print(img.shape)  \n",
    "        img  = mean_normalization(img)\n",
    "        # print(img.shape)  \n",
    "        # final step-forming the training data list with numpy array of the images\n",
    "        training_data.append([np.array(img),np.array(label)])\n",
    "  \n",
    "    # shuffling of the training data to preserve the random state of our data\n",
    "    shuffle(training_data)\n",
    "    return training_data"
   ]
  },
  {
   "cell_type": "code",
   "execution_count": 24,
   "id": "6180d16c",
   "metadata": {
    "ExecuteTime": {
     "end_time": "2023-03-06T15:00:27.160705Z",
     "start_time": "2023-03-06T15:00:27.157063Z"
    },
    "tags": []
   },
   "outputs": [],
   "source": [
    "def create_test_data(test_df,shape):\n",
    "    testing_data = []\n",
    "    for row in test_df.itertuples():\n",
    "        # labeling the images\n",
    "        label = row.emotion_class\n",
    "  \n",
    "        path = row.path    \n",
    "    \n",
    "        img = cv2.imread(path)\n",
    "        img = cv2.resize(img, shape)\n",
    "        img  = mean_normalization(img)\n",
    "        testing_data.append([np.array(img), np.array(label)])\n",
    "          \n",
    "    shuffle(testing_data)\n",
    "    \n",
    "\n",
    "    return testing_data"
   ]
  },
  {
   "cell_type": "code",
   "execution_count": 9,
   "id": "955507d3",
   "metadata": {
    "ExecuteTime": {
     "end_time": "2023-03-06T15:00:27.503766Z",
     "start_time": "2023-03-06T15:00:27.499734Z"
    },
    "tags": []
   },
   "outputs": [],
   "source": [
    "def get_pre_trained_models():\n",
    "    # List all available models\n",
    "    model_dictionary = {m[0]:m[1] for m in inspect.getmembers(tf.keras.applications, inspect.isfunction)}\n",
    "    model_list =['DenseNet169',\n",
    "    'Xception',\n",
    "    'DenseNet121',\n",
    "    'VGG16',\n",
    "    'ResNet152V2',\n",
    "    'MobileNet',\n",
    "    'InceptionV3']\n",
    "    models_not_used = set(model_dictionary.keys())-set(model_list)\n",
    "    \n",
    "    for model_name in models_not_used:\n",
    "        if model_name in model_dictionary:\n",
    "            del model_dictionary[model_name]\n",
    "\n",
    "    return model_dictionary"
   ]
  },
  {
   "cell_type": "code",
   "execution_count": 10,
   "id": "34eabb28",
   "metadata": {
    "ExecuteTime": {
     "end_time": "2023-03-06T15:00:28.385285Z",
     "start_time": "2023-03-06T15:00:28.383071Z"
    },
    "tags": []
   },
   "outputs": [],
   "source": [
    "model_dictionary = get_pre_trained_models()\n",
    "model_benchmarks_map ={}"
   ]
  },
  {
   "cell_type": "code",
   "execution_count": null,
   "id": "04e3a2f1-4a8a-4310-88a3-10e5f975fdc5",
   "metadata": {
    "tags": []
   },
   "outputs": [],
   "source": [
    "\n",
    "metrics_dict = {\"model\":[] , \"EMODB\":[]\t\t, \"SAVEE\" :[]\t, \t \"RAVDESS\":[]\t\t,\"IEMOCAP\":[] }\n",
    "\n",
    "\n",
    "df_metrics = pd.DataFrame(metrics_dict)\n",
    "df_metrics\n",
    "model_list  = list(model_dictionary.keys())\n",
    "model_list.append(\"Custom CNN Model\")\n",
    "\n",
    "df_metrics[\"model\"]=model_list\n",
    "df_metrics"
   ]
  },
  {
   "cell_type": "code",
   "execution_count": 28,
   "id": "2eff28da",
   "metadata": {
    "ExecuteTime": {
     "end_time": "2023-03-06T15:00:29.698342Z",
     "start_time": "2023-03-06T15:00:29.690366Z"
    },
    "tags": []
   },
   "outputs": [],
   "source": [
    "def train_pre_trained_models(dataset,X_train,y_train,X_test,y_test,input_shape=(75,75,3)):\n",
    "    \n",
    "    global model_benchmarks_map\n",
    "    model_benchmarks = {'model_name': [], 'num_model_params': [],'validation_accuracy': []}\n",
    "    \n",
    "    for model_name, pre_train_model in tqdm(model_dictionary.items()):\n",
    "        \n",
    "        # load the pre-trained model with global average pooling as the last layer and freeze the model weights\n",
    "        base_model = pre_train_model(weights='imagenet', include_top=False,input_shape=input_shape)\n",
    "        # add a global spatial average pooling layer\n",
    "        x = base_model.output\n",
    "        x = GlobalAveragePooling2D()(x)\n",
    "        # let's add a fully-connected layer\n",
    "        x = Dense(128, activation='relu')(x)\n",
    "\n",
    "        # and a logistic layer -4 classes\n",
    "        predictions = Dense(4, activation='softmax')(x)\n",
    "        \n",
    "        # this is the model we will train\n",
    "        model = Model(inputs=base_model.input, outputs=predictions)\n",
    "        print(f\"{model_name} loaded.\")\n",
    "        # first: train only the top layers (which were randomly initialized)\n",
    "        # i.e. freeze all convolutional  layers\n",
    "        for layer in base_model.layers:\n",
    "            layer.trainable = False     \n",
    "        \n",
    "        optimizer = RMSprop(lr=0.0001)\n",
    "        model.compile(optimizer=optimizer, loss='sparse_categorical_crossentropy', metrics=['sparse_categorical_accuracy'])\n",
    "    \n",
    "        history = model.fit(X_train,y_train, batch_size = 32, epochs = 500, verbose = 0,  validation_data = (X_test,y_test))\n",
    "        \n",
    "        print(f'{dataset}_{model_name}_cnn')\n",
    "        get_class_accuracy(model,dataset, X_train,y_train,X_test,y_test,model_name)\n",
    "        \n",
    "\n",
    "        model_benchmarks['model_name'].append(model_name)\n",
    "        model_benchmarks['num_model_params'].append(base_model.count_params())\n",
    "\n",
    "        model_benchmarks['validation_accuracy'].append(max(history.history['val_sparse_categorical_accuracy']))\n",
    "        print(f\"{model_name} Validation accuracy: {np.round(max(history.history['val_sparse_categorical_accuracy']),2)}\")\n",
    "        benchmark_df = pd.DataFrame(model_benchmarks)\n",
    "        benchmark_df.sort_values('validation_accuracy', inplace=True) # sort in ascending order of validation_accuracy column\n",
    "        model_benchmarks_map[dataset] = benchmark_df"
   ]
  },
  {
   "cell_type": "markdown",
   "id": "063620cc",
   "metadata": {},
   "source": [
    "## Train Pre Trained Models"
   ]
  },
  {
   "cell_type": "code",
   "execution_count": null,
   "id": "e13c8edd",
   "metadata": {
    "tags": []
   },
   "outputs": [],
   "source": [
    "import time\n",
    "timestamp1 = time.time()\n",
    "\n",
    "for dataset in  np.flip(sources):\n",
    "    X_train,y_train,X_test,y_test = get_train_test_data(source_data, dataset,test_size=0.20)\n",
    "    train_pre_trained_models(dataset,X_train,y_train,X_test,y_test)\n",
    "timestamp2 = time.time()\n",
    "print(\"This took %.2f seconds\" % (timestamp2 - timestamp1))"
   ]
  },
  {
   "cell_type": "markdown",
   "id": "58694d28",
   "metadata": {},
   "source": [
    "## Create Custom CNN Model"
   ]
  },
  {
   "cell_type": "code",
   "execution_count": 49,
   "id": "1c53a10e",
   "metadata": {
    "ExecuteTime": {
     "end_time": "2023-03-06T16:16:23.262660Z",
     "start_time": "2023-03-06T16:16:23.255529Z"
    },
    "tags": []
   },
   "outputs": [],
   "source": [
    "def get_custom_model():\n",
    "    model = Sequential()\n",
    "\n",
    "    model.add(Conv2D(filters = 64, kernel_size = (5,5),padding = 'Same', \n",
    "                    activation ='relu', input_shape =(75, 75, 3)))\n",
    "    model.add(Conv2D(filters = 64, kernel_size = (5,5),padding = 'Same', \n",
    "                    activation ='relu'))\n",
    "    model.add(MaxPooling2D(pool_size=(2,2)))\n",
    "    model.add(Dropout(0.5))\n",
    "\n",
    "\n",
    "    model.add(Conv2D(filters = 64, kernel_size = (3,3),padding = 'Same'))\n",
    "    model.add(LeakyReLU(alpha=0.05))\n",
    "    model.add(Conv2D(filters = 64, kernel_size = (3,3),padding = 'Same',activation ='relu'))\n",
    "    model.add(Dropout(0.5))\n",
    "    model.add(MaxPooling2D(pool_size=(2,2)))\n",
    "    model.add(Dropout(0.5))\n",
    "\n",
    "\n",
    "\n",
    "    model.add(Flatten())\n",
    "    model.add(Dense(512, activation = \"relu\"))\n",
    "    model.add(Dropout(0.5))\n",
    "    model.add(Dense(4, activation = \"softmax\"))\n",
    "\n",
    "    optimizer = RMSprop(lr=0.0001)\n",
    "    model.compile(optimizer=optimizer, loss='sparse_categorical_crossentropy', metrics=['sparse_categorical_accuracy'])\n",
    "    return model"
   ]
  },
  {
   "cell_type": "markdown",
   "id": "682dc2cf",
   "metadata": {},
   "source": [
    "## Training Custom CNN Model"
   ]
  },
  {
   "cell_type": "code",
   "execution_count": 6,
   "id": "384fa7f9-788e-409f-bf18-915f07ad903d",
   "metadata": {
    "tags": []
   },
   "outputs": [],
   "source": [
    "model_name=\"Custom CNN Model\""
   ]
  },
  {
   "cell_type": "code",
   "execution_count": null,
   "id": "10624c1f",
   "metadata": {
    "ExecuteTime": {
     "end_time": "2023-03-06T16:19:20.709587Z",
     "start_time": "2023-03-06T16:16:24.255408Z"
    },
    "tags": []
   },
   "outputs": [],
   "source": [
    "%time\n",
    "model_history ={}\n",
    "for dataset in  np.flip(sources):\n",
    "    X_train,y_train,X_test,y_test = get_train_test_data(source_data, dataset,test_size=.20)\n",
    "    model  = get_custom_model()\n",
    "    history = model.fit(X_train,y_train, batch_size = 32, epochs = 500, verbose = 0,  validation_data = (X_test,y_test))\n",
    "    model_history[dataset] = history.history\n",
    "    get_class_accuracy(model,dataset, X_train,y_train,X_test,y_test,model_name)\n",
    "    model.save(f\"models/exp4/{dataset}_custom_cnn\")\n"
   ]
  },
  {
   "cell_type": "code",
   "execution_count": null,
   "id": "6e694852",
   "metadata": {},
   "outputs": [
    {
     "data": {
      "text/html": [
       "<div>\n",
       "<style scoped>\n",
       "    .dataframe tbody tr th:only-of-type {\n",
       "        vertical-align: middle;\n",
       "    }\n",
       "\n",
       "    .dataframe tbody tr th {\n",
       "        vertical-align: top;\n",
       "    }\n",
       "\n",
       "    .dataframe thead th {\n",
       "        text-align: right;\n",
       "    }\n",
       "</style>\n",
       "<table border=\"1\" class=\"dataframe\">\n",
       "  <thead>\n",
       "    <tr style=\"text-align: right;\">\n",
       "      <th></th>\n",
       "      <th>Model</th>\n",
       "      <th>EMODB</th>\n",
       "      <th>SAVEE</th>\n",
       "      <th>RAVDESS</th>\n",
       "      <th>IEMOCAP</th>\n",
       "    </tr>\n",
       "  </thead>\n",
       "  <tbody>\n",
       "    <tr>\n",
       "      <th>5</th>\n",
       "      <td>VGG16</td>\n",
       "      <td>0.7619</td>\n",
       "      <td>0.5417</td>\n",
       "      <td>0.6832</td>\n",
       "      <td>0.5602</td>\n",
       "    </tr>\n",
       "    <tr>\n",
       "      <th>6</th>\n",
       "      <td>Xception</td>\n",
       "      <td>0.9206</td>\n",
       "      <td>0.8611</td>\n",
       "      <td>0.9406</td>\n",
       "      <td>0.7651</td>\n",
       "    </tr>\n",
       "    <tr>\n",
       "      <th>4</th>\n",
       "      <td>ResNet152V2</td>\n",
       "      <td>0.9206</td>\n",
       "      <td>0.8889</td>\n",
       "      <td>0.9109</td>\n",
       "      <td>0.8300</td>\n",
       "    </tr>\n",
       "    <tr>\n",
       "      <th>2</th>\n",
       "      <td>InceptionV3</td>\n",
       "      <td>0.9444</td>\n",
       "      <td>0.8611</td>\n",
       "      <td>0.9257</td>\n",
       "      <td>0.8023</td>\n",
       "    </tr>\n",
       "    <tr>\n",
       "      <th>3</th>\n",
       "      <td>MobileNet</td>\n",
       "      <td>0.9444</td>\n",
       "      <td>0.8889</td>\n",
       "      <td>0.9158</td>\n",
       "      <td>0.8179</td>\n",
       "    </tr>\n",
       "    <tr>\n",
       "      <th>1</th>\n",
       "      <td>DenseNet169</td>\n",
       "      <td>0.9524</td>\n",
       "      <td>0.8472</td>\n",
       "      <td>0.9257</td>\n",
       "      <td>0.8075</td>\n",
       "    </tr>\n",
       "    <tr>\n",
       "      <th>0</th>\n",
       "      <td>DenseNet121</td>\n",
       "      <td>0.9524</td>\n",
       "      <td>0.8611</td>\n",
       "      <td>0.9158</td>\n",
       "      <td>0.8352</td>\n",
       "    </tr>\n",
       "    <tr>\n",
       "      <th>7</th>\n",
       "      <td>Custom CNN Model</td>\n",
       "      <td>0.9603</td>\n",
       "      <td>0.9583</td>\n",
       "      <td>0.9604</td>\n",
       "      <td>0.8494</td>\n",
       "    </tr>\n",
       "  </tbody>\n",
       "</table>\n",
       "</div>"
      ],
      "text/plain": [
       "              Model   EMODB   SAVEE  RAVDESS  IEMOCAP\n",
       "5             VGG16  0.7619  0.5417   0.6832   0.5602\n",
       "6          Xception  0.9206  0.8611   0.9406   0.7651\n",
       "4       ResNet152V2  0.9206  0.8889   0.9109   0.8300\n",
       "2       InceptionV3  0.9444  0.8611   0.9257   0.8023\n",
       "3         MobileNet  0.9444  0.8889   0.9158   0.8179\n",
       "1       DenseNet169  0.9524  0.8472   0.9257   0.8075\n",
       "0       DenseNet121  0.9524  0.8611   0.9158   0.8352\n",
       "7  Custom CNN Model  0.9603  0.9583   0.9604   0.8494"
      ]
     },
     "execution_count": 3,
     "metadata": {},
     "output_type": "execute_result"
    }
   ],
   "source": [
    "\n",
    "import pandas as pd\n",
    "df_metrics = pd.read_csv(\"df_metrics_4.csv\")\n",
    "df_metrics.sort_values(by=[ 'EMODB', 'SAVEE', 'RAVDESS', 'IEMOCAP'])"
   ]
  },
  {
   "cell_type": "markdown",
   "id": "d1ade8c0",
   "metadata": {},
   "source": [
    "#### CNN Model Train vs Validation "
   ]
  },
  {
   "cell_type": "code",
   "execution_count": null,
   "id": "6972def4",
   "metadata": {
    "ExecuteTime": {
     "end_time": "2023-03-06T16:20:21.848545Z",
     "start_time": "2023-03-06T16:20:21.254510Z"
    },
    "tags": []
   },
   "outputs": [],
   "source": [
    "import pickle\n",
    "import numpy as np\n",
    "import matplotlib.pyplot as plt\n",
    "\n",
    "for dataset in  np.flip(sources):\n",
    "    plt.figure(figsize=(8,6))\n",
    "    acc = np.round(max(model_history[dataset]['val_sparse_categorical_accuracy']),2)\n",
    "    # summarize history for accuracy\n",
    "    plt.plot(model_history[dataset]['sparse_categorical_accuracy'])\n",
    "    plt.plot(model_history[dataset]['val_sparse_categorical_accuracy'])\n",
    "    plt.title(f'CNN Model Training for {dataset} for Experiment 1')\n",
    "    plt.ylabel('accuracy')\n",
    "    plt.xlabel('epoch')\n",
    "    plt.legend(['train', 'val'], loc='upper left')\n",
    "    plt.show()"
   ]
  },
  {
   "cell_type": "code",
   "execution_count": null,
   "id": "5d699056",
   "metadata": {
    "tags": []
   },
   "outputs": [],
   "source": [
    "print(\"Best Validation accuracy\\n\")\n",
    "for dataset in  np.flip(sources):\n",
    "    print(dataset, max(model_history[dataset]['val_sparse_categorical_accuracy']))"
   ]
  },
  {
   "cell_type": "markdown",
   "id": "a4246f35",
   "metadata": {},
   "source": [
    "## Pre Trained and CNN Model comparison"
   ]
  },
  {
   "cell_type": "code",
   "execution_count": null,
   "id": "2b0a0b1d",
   "metadata": {
    "ExecuteTime": {
     "end_time": "2023-03-06T16:20:23.537858Z",
     "start_time": "2023-03-06T16:20:21.854006Z"
    },
    "tags": []
   },
   "outputs": [],
   "source": [
    "for dataset in  np.flip(sources):\n",
    "    print(dataset, max(model_history[dataset]['val_sparse_categorical_accuracy']))\n",
    "    max_test_accuracy= max(model_history[dataset]['val_sparse_categorical_accuracy'][:100])\n",
    "    benchmark_df = model_benchmarks_map[dataset]\n",
    "    benchmark_df.loc[len(benchmark_df.index)] = ['Custom CNN Model', 10800580,max_test_accuracy] \n",
    "    plt.figure(figsize=(8,6))\n",
    "    # Loop over each row and plot the num_model_params vs validation_accuracy\n",
    "    markers=[\".\",\",\",\"o\",\"v\",\"^\",\"<\",\">\",\"1\",\"2\",\"3\",\"4\",\"8\",\"s\",\"p\",\"P\",\"*\",\"h\",\"H\",\"+\",\"x\",\"X\",\"D\",\"d\",\"|\",\"_\",4,5,6,7,8,9,10,11]\n",
    "    plt.figure(figsize=(7,5))\n",
    "    for row in benchmark_df.itertuples():\n",
    "        plt.scatter(row.num_model_params, row.validation_accuracy, label=row.model_name, marker=markers[row.Index], s=150, linewidths=2)\n",
    "    plt.xscale('log')\n",
    "    plt.xlabel('Number of Parameters in Model')\n",
    "    plt.ylabel('Validation Accuracy after 100 Epochs')\n",
    "    plt.title(f'Model Comparison for {dataset} Experiment 1')\n",
    "    plt.legend(bbox_to_anchor=(1, 1), loc='upper left'); # Move legend out of the plot\n",
    "    model_benchmarks_map[dataset] = benchmark_df\n"
   ]
  },
  {
   "cell_type": "markdown",
   "id": "cffe13e7",
   "metadata": {},
   "source": [
    "## Each Model performance for every dataset"
   ]
  },
  {
   "cell_type": "code",
   "execution_count": null,
   "id": "88868b0c",
   "metadata": {
    "ExecuteTime": {
     "end_time": "2023-03-06T16:20:23.550091Z",
     "start_time": "2023-03-06T16:20:23.539242Z"
    },
    "tags": []
   },
   "outputs": [],
   "source": [
    "print(sources[0])\n",
    "benchmark_df= model_benchmarks_map[sources[0]]\n",
    "benchmark_df.sort_values(by=\"validation_accuracy\").reset_index(drop=True)"
   ]
  },
  {
   "cell_type": "code",
   "execution_count": null,
   "id": "7e90e095",
   "metadata": {
    "ExecuteTime": {
     "end_time": "2023-03-06T16:20:23.561270Z",
     "start_time": "2023-03-06T16:20:23.551225Z"
    },
    "tags": []
   },
   "outputs": [],
   "source": [
    "print(sources[1])\n",
    "benchmark_df= model_benchmarks_map[sources[1]]\n",
    "benchmark_df.sort_values(by=\"validation_accuracy\").reset_index(drop=True)"
   ]
  },
  {
   "cell_type": "code",
   "execution_count": null,
   "id": "dce4e112",
   "metadata": {
    "ExecuteTime": {
     "end_time": "2023-03-06T16:20:23.572354Z",
     "start_time": "2023-03-06T16:20:23.562529Z"
    },
    "tags": []
   },
   "outputs": [],
   "source": [
    "print(sources[2])\n",
    "benchmark_df= model_benchmarks_map[sources[2]]\n",
    "benchmark_df.sort_values(by=\"validation_accuracy\").reset_index(drop=True)"
   ]
  },
  {
   "cell_type": "code",
   "execution_count": null,
   "id": "d522b107",
   "metadata": {
    "ExecuteTime": {
     "end_time": "2023-03-06T16:20:23.583225Z",
     "start_time": "2023-03-06T16:20:23.573380Z"
    }
   },
   "outputs": [],
   "source": [
    "print(sources[3])\n",
    "benchmark_df= model_benchmarks_map[sources[3]]\n",
    "benchmark_df.sort_values(by=\"validation_accuracy\").reset_index(drop=True)"
   ]
  }
 ],
 "metadata": {
  "availableInstances": [
   {
    "_defaultOrder": 0,
    "_isFastLaunch": true,
    "category": "General purpose",
    "gpuNum": 0,
    "hideHardwareSpecs": false,
    "memoryGiB": 4,
    "name": "ml.t3.medium",
    "vcpuNum": 2
   },
   {
    "_defaultOrder": 1,
    "_isFastLaunch": false,
    "category": "General purpose",
    "gpuNum": 0,
    "hideHardwareSpecs": false,
    "memoryGiB": 8,
    "name": "ml.t3.large",
    "vcpuNum": 2
   },
   {
    "_defaultOrder": 2,
    "_isFastLaunch": false,
    "category": "General purpose",
    "gpuNum": 0,
    "hideHardwareSpecs": false,
    "memoryGiB": 16,
    "name": "ml.t3.xlarge",
    "vcpuNum": 4
   },
   {
    "_defaultOrder": 3,
    "_isFastLaunch": false,
    "category": "General purpose",
    "gpuNum": 0,
    "hideHardwareSpecs": false,
    "memoryGiB": 32,
    "name": "ml.t3.2xlarge",
    "vcpuNum": 8
   },
   {
    "_defaultOrder": 4,
    "_isFastLaunch": true,
    "category": "General purpose",
    "gpuNum": 0,
    "hideHardwareSpecs": false,
    "memoryGiB": 8,
    "name": "ml.m5.large",
    "vcpuNum": 2
   },
   {
    "_defaultOrder": 5,
    "_isFastLaunch": false,
    "category": "General purpose",
    "gpuNum": 0,
    "hideHardwareSpecs": false,
    "memoryGiB": 16,
    "name": "ml.m5.xlarge",
    "vcpuNum": 4
   },
   {
    "_defaultOrder": 6,
    "_isFastLaunch": false,
    "category": "General purpose",
    "gpuNum": 0,
    "hideHardwareSpecs": false,
    "memoryGiB": 32,
    "name": "ml.m5.2xlarge",
    "vcpuNum": 8
   },
   {
    "_defaultOrder": 7,
    "_isFastLaunch": false,
    "category": "General purpose",
    "gpuNum": 0,
    "hideHardwareSpecs": false,
    "memoryGiB": 64,
    "name": "ml.m5.4xlarge",
    "vcpuNum": 16
   },
   {
    "_defaultOrder": 8,
    "_isFastLaunch": false,
    "category": "General purpose",
    "gpuNum": 0,
    "hideHardwareSpecs": false,
    "memoryGiB": 128,
    "name": "ml.m5.8xlarge",
    "vcpuNum": 32
   },
   {
    "_defaultOrder": 9,
    "_isFastLaunch": false,
    "category": "General purpose",
    "gpuNum": 0,
    "hideHardwareSpecs": false,
    "memoryGiB": 192,
    "name": "ml.m5.12xlarge",
    "vcpuNum": 48
   },
   {
    "_defaultOrder": 10,
    "_isFastLaunch": false,
    "category": "General purpose",
    "gpuNum": 0,
    "hideHardwareSpecs": false,
    "memoryGiB": 256,
    "name": "ml.m5.16xlarge",
    "vcpuNum": 64
   },
   {
    "_defaultOrder": 11,
    "_isFastLaunch": false,
    "category": "General purpose",
    "gpuNum": 0,
    "hideHardwareSpecs": false,
    "memoryGiB": 384,
    "name": "ml.m5.24xlarge",
    "vcpuNum": 96
   },
   {
    "_defaultOrder": 12,
    "_isFastLaunch": false,
    "category": "General purpose",
    "gpuNum": 0,
    "hideHardwareSpecs": false,
    "memoryGiB": 8,
    "name": "ml.m5d.large",
    "vcpuNum": 2
   },
   {
    "_defaultOrder": 13,
    "_isFastLaunch": false,
    "category": "General purpose",
    "gpuNum": 0,
    "hideHardwareSpecs": false,
    "memoryGiB": 16,
    "name": "ml.m5d.xlarge",
    "vcpuNum": 4
   },
   {
    "_defaultOrder": 14,
    "_isFastLaunch": false,
    "category": "General purpose",
    "gpuNum": 0,
    "hideHardwareSpecs": false,
    "memoryGiB": 32,
    "name": "ml.m5d.2xlarge",
    "vcpuNum": 8
   },
   {
    "_defaultOrder": 15,
    "_isFastLaunch": false,
    "category": "General purpose",
    "gpuNum": 0,
    "hideHardwareSpecs": false,
    "memoryGiB": 64,
    "name": "ml.m5d.4xlarge",
    "vcpuNum": 16
   },
   {
    "_defaultOrder": 16,
    "_isFastLaunch": false,
    "category": "General purpose",
    "gpuNum": 0,
    "hideHardwareSpecs": false,
    "memoryGiB": 128,
    "name": "ml.m5d.8xlarge",
    "vcpuNum": 32
   },
   {
    "_defaultOrder": 17,
    "_isFastLaunch": false,
    "category": "General purpose",
    "gpuNum": 0,
    "hideHardwareSpecs": false,
    "memoryGiB": 192,
    "name": "ml.m5d.12xlarge",
    "vcpuNum": 48
   },
   {
    "_defaultOrder": 18,
    "_isFastLaunch": false,
    "category": "General purpose",
    "gpuNum": 0,
    "hideHardwareSpecs": false,
    "memoryGiB": 256,
    "name": "ml.m5d.16xlarge",
    "vcpuNum": 64
   },
   {
    "_defaultOrder": 19,
    "_isFastLaunch": false,
    "category": "General purpose",
    "gpuNum": 0,
    "hideHardwareSpecs": false,
    "memoryGiB": 384,
    "name": "ml.m5d.24xlarge",
    "vcpuNum": 96
   },
   {
    "_defaultOrder": 20,
    "_isFastLaunch": false,
    "category": "General purpose",
    "gpuNum": 0,
    "hideHardwareSpecs": true,
    "memoryGiB": 0,
    "name": "ml.geospatial.interactive",
    "supportedImageNames": [
     "sagemaker-geospatial-v1-0"
    ],
    "vcpuNum": 0
   },
   {
    "_defaultOrder": 21,
    "_isFastLaunch": true,
    "category": "Compute optimized",
    "gpuNum": 0,
    "hideHardwareSpecs": false,
    "memoryGiB": 4,
    "name": "ml.c5.large",
    "vcpuNum": 2
   },
   {
    "_defaultOrder": 22,
    "_isFastLaunch": false,
    "category": "Compute optimized",
    "gpuNum": 0,
    "hideHardwareSpecs": false,
    "memoryGiB": 8,
    "name": "ml.c5.xlarge",
    "vcpuNum": 4
   },
   {
    "_defaultOrder": 23,
    "_isFastLaunch": false,
    "category": "Compute optimized",
    "gpuNum": 0,
    "hideHardwareSpecs": false,
    "memoryGiB": 16,
    "name": "ml.c5.2xlarge",
    "vcpuNum": 8
   },
   {
    "_defaultOrder": 24,
    "_isFastLaunch": false,
    "category": "Compute optimized",
    "gpuNum": 0,
    "hideHardwareSpecs": false,
    "memoryGiB": 32,
    "name": "ml.c5.4xlarge",
    "vcpuNum": 16
   },
   {
    "_defaultOrder": 25,
    "_isFastLaunch": false,
    "category": "Compute optimized",
    "gpuNum": 0,
    "hideHardwareSpecs": false,
    "memoryGiB": 72,
    "name": "ml.c5.9xlarge",
    "vcpuNum": 36
   },
   {
    "_defaultOrder": 26,
    "_isFastLaunch": false,
    "category": "Compute optimized",
    "gpuNum": 0,
    "hideHardwareSpecs": false,
    "memoryGiB": 96,
    "name": "ml.c5.12xlarge",
    "vcpuNum": 48
   },
   {
    "_defaultOrder": 27,
    "_isFastLaunch": false,
    "category": "Compute optimized",
    "gpuNum": 0,
    "hideHardwareSpecs": false,
    "memoryGiB": 144,
    "name": "ml.c5.18xlarge",
    "vcpuNum": 72
   },
   {
    "_defaultOrder": 28,
    "_isFastLaunch": false,
    "category": "Compute optimized",
    "gpuNum": 0,
    "hideHardwareSpecs": false,
    "memoryGiB": 192,
    "name": "ml.c5.24xlarge",
    "vcpuNum": 96
   },
   {
    "_defaultOrder": 29,
    "_isFastLaunch": true,
    "category": "Accelerated computing",
    "gpuNum": 1,
    "hideHardwareSpecs": false,
    "memoryGiB": 16,
    "name": "ml.g4dn.xlarge",
    "vcpuNum": 4
   },
   {
    "_defaultOrder": 30,
    "_isFastLaunch": false,
    "category": "Accelerated computing",
    "gpuNum": 1,
    "hideHardwareSpecs": false,
    "memoryGiB": 32,
    "name": "ml.g4dn.2xlarge",
    "vcpuNum": 8
   },
   {
    "_defaultOrder": 31,
    "_isFastLaunch": false,
    "category": "Accelerated computing",
    "gpuNum": 1,
    "hideHardwareSpecs": false,
    "memoryGiB": 64,
    "name": "ml.g4dn.4xlarge",
    "vcpuNum": 16
   },
   {
    "_defaultOrder": 32,
    "_isFastLaunch": false,
    "category": "Accelerated computing",
    "gpuNum": 1,
    "hideHardwareSpecs": false,
    "memoryGiB": 128,
    "name": "ml.g4dn.8xlarge",
    "vcpuNum": 32
   },
   {
    "_defaultOrder": 33,
    "_isFastLaunch": false,
    "category": "Accelerated computing",
    "gpuNum": 4,
    "hideHardwareSpecs": false,
    "memoryGiB": 192,
    "name": "ml.g4dn.12xlarge",
    "vcpuNum": 48
   },
   {
    "_defaultOrder": 34,
    "_isFastLaunch": false,
    "category": "Accelerated computing",
    "gpuNum": 1,
    "hideHardwareSpecs": false,
    "memoryGiB": 256,
    "name": "ml.g4dn.16xlarge",
    "vcpuNum": 64
   },
   {
    "_defaultOrder": 35,
    "_isFastLaunch": false,
    "category": "Accelerated computing",
    "gpuNum": 1,
    "hideHardwareSpecs": false,
    "memoryGiB": 61,
    "name": "ml.p3.2xlarge",
    "vcpuNum": 8
   },
   {
    "_defaultOrder": 36,
    "_isFastLaunch": false,
    "category": "Accelerated computing",
    "gpuNum": 4,
    "hideHardwareSpecs": false,
    "memoryGiB": 244,
    "name": "ml.p3.8xlarge",
    "vcpuNum": 32
   },
   {
    "_defaultOrder": 37,
    "_isFastLaunch": false,
    "category": "Accelerated computing",
    "gpuNum": 8,
    "hideHardwareSpecs": false,
    "memoryGiB": 488,
    "name": "ml.p3.16xlarge",
    "vcpuNum": 64
   },
   {
    "_defaultOrder": 38,
    "_isFastLaunch": false,
    "category": "Accelerated computing",
    "gpuNum": 8,
    "hideHardwareSpecs": false,
    "memoryGiB": 768,
    "name": "ml.p3dn.24xlarge",
    "vcpuNum": 96
   },
   {
    "_defaultOrder": 39,
    "_isFastLaunch": false,
    "category": "Memory Optimized",
    "gpuNum": 0,
    "hideHardwareSpecs": false,
    "memoryGiB": 16,
    "name": "ml.r5.large",
    "vcpuNum": 2
   },
   {
    "_defaultOrder": 40,
    "_isFastLaunch": false,
    "category": "Memory Optimized",
    "gpuNum": 0,
    "hideHardwareSpecs": false,
    "memoryGiB": 32,
    "name": "ml.r5.xlarge",
    "vcpuNum": 4
   },
   {
    "_defaultOrder": 41,
    "_isFastLaunch": false,
    "category": "Memory Optimized",
    "gpuNum": 0,
    "hideHardwareSpecs": false,
    "memoryGiB": 64,
    "name": "ml.r5.2xlarge",
    "vcpuNum": 8
   },
   {
    "_defaultOrder": 42,
    "_isFastLaunch": false,
    "category": "Memory Optimized",
    "gpuNum": 0,
    "hideHardwareSpecs": false,
    "memoryGiB": 128,
    "name": "ml.r5.4xlarge",
    "vcpuNum": 16
   },
   {
    "_defaultOrder": 43,
    "_isFastLaunch": false,
    "category": "Memory Optimized",
    "gpuNum": 0,
    "hideHardwareSpecs": false,
    "memoryGiB": 256,
    "name": "ml.r5.8xlarge",
    "vcpuNum": 32
   },
   {
    "_defaultOrder": 44,
    "_isFastLaunch": false,
    "category": "Memory Optimized",
    "gpuNum": 0,
    "hideHardwareSpecs": false,
    "memoryGiB": 384,
    "name": "ml.r5.12xlarge",
    "vcpuNum": 48
   },
   {
    "_defaultOrder": 45,
    "_isFastLaunch": false,
    "category": "Memory Optimized",
    "gpuNum": 0,
    "hideHardwareSpecs": false,
    "memoryGiB": 512,
    "name": "ml.r5.16xlarge",
    "vcpuNum": 64
   },
   {
    "_defaultOrder": 46,
    "_isFastLaunch": false,
    "category": "Memory Optimized",
    "gpuNum": 0,
    "hideHardwareSpecs": false,
    "memoryGiB": 768,
    "name": "ml.r5.24xlarge",
    "vcpuNum": 96
   },
   {
    "_defaultOrder": 47,
    "_isFastLaunch": false,
    "category": "Accelerated computing",
    "gpuNum": 1,
    "hideHardwareSpecs": false,
    "memoryGiB": 16,
    "name": "ml.g5.xlarge",
    "vcpuNum": 4
   },
   {
    "_defaultOrder": 48,
    "_isFastLaunch": false,
    "category": "Accelerated computing",
    "gpuNum": 1,
    "hideHardwareSpecs": false,
    "memoryGiB": 32,
    "name": "ml.g5.2xlarge",
    "vcpuNum": 8
   },
   {
    "_defaultOrder": 49,
    "_isFastLaunch": false,
    "category": "Accelerated computing",
    "gpuNum": 1,
    "hideHardwareSpecs": false,
    "memoryGiB": 64,
    "name": "ml.g5.4xlarge",
    "vcpuNum": 16
   },
   {
    "_defaultOrder": 50,
    "_isFastLaunch": false,
    "category": "Accelerated computing",
    "gpuNum": 1,
    "hideHardwareSpecs": false,
    "memoryGiB": 128,
    "name": "ml.g5.8xlarge",
    "vcpuNum": 32
   },
   {
    "_defaultOrder": 51,
    "_isFastLaunch": false,
    "category": "Accelerated computing",
    "gpuNum": 1,
    "hideHardwareSpecs": false,
    "memoryGiB": 256,
    "name": "ml.g5.16xlarge",
    "vcpuNum": 64
   },
   {
    "_defaultOrder": 52,
    "_isFastLaunch": false,
    "category": "Accelerated computing",
    "gpuNum": 4,
    "hideHardwareSpecs": false,
    "memoryGiB": 192,
    "name": "ml.g5.12xlarge",
    "vcpuNum": 48
   },
   {
    "_defaultOrder": 53,
    "_isFastLaunch": false,
    "category": "Accelerated computing",
    "gpuNum": 4,
    "hideHardwareSpecs": false,
    "memoryGiB": 384,
    "name": "ml.g5.24xlarge",
    "vcpuNum": 96
   },
   {
    "_defaultOrder": 54,
    "_isFastLaunch": false,
    "category": "Accelerated computing",
    "gpuNum": 8,
    "hideHardwareSpecs": false,
    "memoryGiB": 768,
    "name": "ml.g5.48xlarge",
    "vcpuNum": 192
   },
   {
    "_defaultOrder": 55,
    "_isFastLaunch": false,
    "category": "Accelerated computing",
    "gpuNum": 8,
    "hideHardwareSpecs": false,
    "memoryGiB": 1152,
    "name": "ml.p4d.24xlarge",
    "vcpuNum": 96
   },
   {
    "_defaultOrder": 56,
    "_isFastLaunch": false,
    "category": "Accelerated computing",
    "gpuNum": 8,
    "hideHardwareSpecs": false,
    "memoryGiB": 1152,
    "name": "ml.p4de.24xlarge",
    "vcpuNum": 96
   },
   {
    "_defaultOrder": 57,
    "_isFastLaunch": false,
    "category": "Accelerated computing",
    "gpuNum": 0,
    "hideHardwareSpecs": false,
    "memoryGiB": 32,
    "name": "ml.trn1.2xlarge",
    "vcpuNum": 8
   },
   {
    "_defaultOrder": 58,
    "_isFastLaunch": false,
    "category": "Accelerated computing",
    "gpuNum": 0,
    "hideHardwareSpecs": false,
    "memoryGiB": 512,
    "name": "ml.trn1.32xlarge",
    "vcpuNum": 128
   },
   {
    "_defaultOrder": 59,
    "_isFastLaunch": false,
    "category": "Accelerated computing",
    "gpuNum": 0,
    "hideHardwareSpecs": false,
    "memoryGiB": 512,
    "name": "ml.trn1n.32xlarge",
    "vcpuNum": 128
   }
  ],
  "instance_type": "ml.g5.4xlarge",
  "kernelspec": {
   "display_name": "tensorflow-gpu",
   "language": "python",
   "name": "python3"
  },
  "language_info": {
   "codemirror_mode": {
    "name": "ipython",
    "version": 3
   },
   "file_extension": ".py",
   "mimetype": "text/x-python",
   "name": "python",
   "nbconvert_exporter": "python",
   "pygments_lexer": "ipython3",
   "version": "3.10.12"
  }
 },
 "nbformat": 4,
 "nbformat_minor": 5
}
